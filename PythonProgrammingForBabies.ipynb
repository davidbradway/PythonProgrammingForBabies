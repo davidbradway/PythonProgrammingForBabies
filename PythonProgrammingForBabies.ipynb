{
 "cells": [
  {
   "cell_type": "code",
   "execution_count": 26,
   "metadata": {
    "collapsed": false
   },
   "outputs": [
    {
     "name": "stdout",
     "output_type": "stream",
     "text": [
      "This little piggy went to market\n",
      "This little piggy stayed home\n",
      "This little piggy had roast beef\n",
      "This little piggy had none\n",
      "This little piggy went ... Wee, wee, wee, all the way home!\n"
     ]
    }
   ],
   "source": [
    "# This llittle PIggy\n",
    "actions = ['went to market', \n",
    "           'stayed home',\n",
    "           'had roast beef',\n",
    "           'had none',\n",
    "           'went ... Wee, wee, wee, all the way home!']\n",
    "for action in actions:\n",
    "    print('This little piggy ' + action)"
   ]
  },
  {
   "cell_type": "code",
   "execution_count": 25,
   "metadata": {
    "collapsed": false
   },
   "outputs": [
    {
     "name": "stdout",
     "output_type": "stream",
     "text": [
      "If you're happy and you know it clap your hands\n",
      "If you're happy and you know it clap your hands\n",
      "If you're happy and you know it Then your face will surely show it\n",
      "If you're happy and you know it clap your hands\n",
      "If you're happy and you know it stomp your feet\n",
      "If you're happy and you know it stomp your feet\n",
      "If you're happy and you know it Then your face will surely show it\n",
      "If you're happy and you know it stomp your feet\n",
      "If you're happy and you know it say hurray\n",
      "If you're happy and you know it say hurray\n",
      "If you're happy and you know it Then your face will surely show it\n",
      "If you're happy and you know it say hurray\n"
     ]
    }
   ],
   "source": [
    "# If You're Happy and You Know It\n",
    "you_re_happy = 1\n",
    "you_know_it = 1\n",
    "\n",
    "for verse in range(3):\n",
    "    for line in range(4):\n",
    "        print(\"If you're happy and you know it \", end=\"\")\n",
    "        if line is not 2:\n",
    "            if (you_re_happy and you_know_it):\n",
    "                if verse == 0:\n",
    "                    print(\"clap your hands\")\n",
    "                elif verse == 1:\n",
    "                    print(\"stomp your feet\")\n",
    "                else:\n",
    "                    print(\"say hurray\")\n",
    "        else:\n",
    "            if (you_re_happy and you_know_it):\n",
    "                print(\"Then your face will surely show it\")"
   ]
  },
  {
   "cell_type": "code",
   "execution_count": 21,
   "metadata": {
    "collapsed": false
   },
   "outputs": [
    {
     "name": "stdout",
     "output_type": "stream",
     "text": [
      "Head shoulders knees and toes\n",
      "Head shoulders knees and toes\n",
      "And eyes and ears and mouth and nose\n",
      "Head shoulders knees and toes\n"
     ]
    }
   ],
   "source": [
    "for line in range(4):\n",
    "    if line is not 2:\n",
    "        print(\"Head shoulders knees and toes\")\n",
    "    else:\n",
    "        print(\"And eyes and ears and mouth and nose\")"
   ]
  },
  {
   "cell_type": "code",
   "execution_count": null,
   "metadata": {
    "collapsed": true
   },
   "outputs": [],
   "source": []
  }
 ],
 "metadata": {
  "kernelspec": {
   "display_name": "Python [Root]",
   "language": "python",
   "name": "Python [Root]"
  },
  "language_info": {
   "codemirror_mode": {
    "name": "ipython",
    "version": 3
   },
   "file_extension": ".py",
   "mimetype": "text/x-python",
   "name": "python",
   "nbconvert_exporter": "python",
   "pygments_lexer": "ipython3",
   "version": "3.5.2"
  }
 },
 "nbformat": 4,
 "nbformat_minor": 0
}
